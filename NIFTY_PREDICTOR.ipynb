{
 "cells": [
  {
   "cell_type": "markdown",
   "id": "2d0fd989-833d-4c50-bb51-eead71188ebe",
   "metadata": {},
   "source": [
    "## This model tries to Predict the Closing Value of Nifty50 based on previous days parameters"
   ]
  },
  {
   "cell_type": "markdown",
   "id": "e3660859-0826-42db-b2b6-d0e3a70227aa",
   "metadata": {},
   "source": [
    "Importing libraries"
   ]
  },
  {
   "cell_type": "code",
   "execution_count": 82,
   "id": "9e7b63b0-475d-47b0-94be-4a82b652ce77",
   "metadata": {},
   "outputs": [],
   "source": [
    "import numpy as np\n",
    "import pandas as pd\n",
    "import matplotlib.pyplot as plt\n",
    "import seaborn as sns\n",
    "%matplotlib inline"
   ]
  },
  {
   "cell_type": "markdown",
   "id": "37951d81-6b88-4f30-bd89-56b4a55ca536",
   "metadata": {},
   "source": [
    "Importing the data from NSE website into a dataframe"
   ]
  },
  {
   "cell_type": "code",
   "execution_count": 2,
   "id": "72727a84-6b71-45c0-b9ba-d49c996289ad",
   "metadata": {},
   "outputs": [],
   "source": [
    "nifty=pd.read_csv('NIFTY 50_Historical_PR_01012024to25082024.csv')"
   ]
  },
  {
   "cell_type": "code",
   "execution_count": 3,
   "id": "bdb21040-e57b-4e1e-8bba-51a3790015e5",
   "metadata": {},
   "outputs": [
    {
     "data": {
      "text/html": [
       "<div>\n",
       "<style scoped>\n",
       "    .dataframe tbody tr th:only-of-type {\n",
       "        vertical-align: middle;\n",
       "    }\n",
       "\n",
       "    .dataframe tbody tr th {\n",
       "        vertical-align: top;\n",
       "    }\n",
       "\n",
       "    .dataframe thead th {\n",
       "        text-align: right;\n",
       "    }\n",
       "</style>\n",
       "<table border=\"1\" class=\"dataframe\">\n",
       "  <thead>\n",
       "    <tr style=\"text-align: right;\">\n",
       "      <th></th>\n",
       "      <th>Index Name</th>\n",
       "      <th>Date</th>\n",
       "      <th>Open</th>\n",
       "      <th>High</th>\n",
       "      <th>Low</th>\n",
       "      <th>Close</th>\n",
       "    </tr>\n",
       "  </thead>\n",
       "  <tbody>\n",
       "    <tr>\n",
       "      <th>0</th>\n",
       "      <td>NIFTY 50</td>\n",
       "      <td>23 Aug 2024</td>\n",
       "      <td>24845.40</td>\n",
       "      <td>24858.40</td>\n",
       "      <td>24771.65</td>\n",
       "      <td>24823.15</td>\n",
       "    </tr>\n",
       "    <tr>\n",
       "      <th>1</th>\n",
       "      <td>NIFTY 50</td>\n",
       "      <td>22 Aug 2024</td>\n",
       "      <td>24863.40</td>\n",
       "      <td>24867.35</td>\n",
       "      <td>24784.45</td>\n",
       "      <td>24811.50</td>\n",
       "    </tr>\n",
       "    <tr>\n",
       "      <th>2</th>\n",
       "      <td>NIFTY 50</td>\n",
       "      <td>21 Aug 2024</td>\n",
       "      <td>24680.55</td>\n",
       "      <td>24787.95</td>\n",
       "      <td>24654.50</td>\n",
       "      <td>24770.20</td>\n",
       "    </tr>\n",
       "    <tr>\n",
       "      <th>3</th>\n",
       "      <td>NIFTY 50</td>\n",
       "      <td>20 Aug 2024</td>\n",
       "      <td>24648.90</td>\n",
       "      <td>24734.30</td>\n",
       "      <td>24607.20</td>\n",
       "      <td>24698.85</td>\n",
       "    </tr>\n",
       "    <tr>\n",
       "      <th>4</th>\n",
       "      <td>NIFTY 50</td>\n",
       "      <td>19 Aug 2024</td>\n",
       "      <td>24636.35</td>\n",
       "      <td>24638.80</td>\n",
       "      <td>24522.95</td>\n",
       "      <td>24572.65</td>\n",
       "    </tr>\n",
       "  </tbody>\n",
       "</table>\n",
       "</div>"
      ],
      "text/plain": [
       "  Index Name         Date      Open      High       Low     Close\n",
       "0   NIFTY 50  23 Aug 2024  24845.40  24858.40  24771.65  24823.15\n",
       "1   NIFTY 50  22 Aug 2024  24863.40  24867.35  24784.45  24811.50\n",
       "2   NIFTY 50  21 Aug 2024  24680.55  24787.95  24654.50  24770.20\n",
       "3   NIFTY 50  20 Aug 2024  24648.90  24734.30  24607.20  24698.85\n",
       "4   NIFTY 50  19 Aug 2024  24636.35  24638.80  24522.95  24572.65"
      ]
     },
     "execution_count": 3,
     "metadata": {},
     "output_type": "execute_result"
    }
   ],
   "source": [
    "nifty.head()"
   ]
  },
  {
   "cell_type": "code",
   "execution_count": 4,
   "id": "8f1fab04-0a47-4443-a154-c5fb5d50328a",
   "metadata": {},
   "outputs": [
    {
     "name": "stdout",
     "output_type": "stream",
     "text": [
      "<class 'pandas.core.frame.DataFrame'>\n",
      "RangeIndex: 161 entries, 0 to 160\n",
      "Data columns (total 6 columns):\n",
      " #   Column      Non-Null Count  Dtype  \n",
      "---  ------      --------------  -----  \n",
      " 0   Index Name  161 non-null    object \n",
      " 1   Date        161 non-null    object \n",
      " 2   Open        161 non-null    float64\n",
      " 3   High        161 non-null    float64\n",
      " 4   Low         161 non-null    float64\n",
      " 5   Close       161 non-null    float64\n",
      "dtypes: float64(4), object(2)\n",
      "memory usage: 7.7+ KB\n"
     ]
    }
   ],
   "source": [
    "nifty.info()"
   ]
  },
  {
   "cell_type": "code",
   "execution_count": 5,
   "id": "1d1591c3-b3aa-4396-8054-7910efe85dee",
   "metadata": {},
   "outputs": [
    {
     "data": {
      "text/html": [
       "<div>\n",
       "<style scoped>\n",
       "    .dataframe tbody tr th:only-of-type {\n",
       "        vertical-align: middle;\n",
       "    }\n",
       "\n",
       "    .dataframe tbody tr th {\n",
       "        vertical-align: top;\n",
       "    }\n",
       "\n",
       "    .dataframe thead th {\n",
       "        text-align: right;\n",
       "    }\n",
       "</style>\n",
       "<table border=\"1\" class=\"dataframe\">\n",
       "  <thead>\n",
       "    <tr style=\"text-align: right;\">\n",
       "      <th></th>\n",
       "      <th>Open</th>\n",
       "      <th>High</th>\n",
       "      <th>Low</th>\n",
       "      <th>Close</th>\n",
       "    </tr>\n",
       "  </thead>\n",
       "  <tbody>\n",
       "    <tr>\n",
       "      <th>count</th>\n",
       "      <td>161.000000</td>\n",
       "      <td>161.000000</td>\n",
       "      <td>161.000000</td>\n",
       "      <td>161.000000</td>\n",
       "    </tr>\n",
       "    <tr>\n",
       "      <th>mean</th>\n",
       "      <td>22842.716770</td>\n",
       "      <td>22941.286957</td>\n",
       "      <td>22712.499068</td>\n",
       "      <td>22833.005280</td>\n",
       "    </tr>\n",
       "    <tr>\n",
       "      <th>std</th>\n",
       "      <td>1062.406555</td>\n",
       "      <td>1054.714306</td>\n",
       "      <td>1071.879696</td>\n",
       "      <td>1067.910975</td>\n",
       "    </tr>\n",
       "    <tr>\n",
       "      <th>min</th>\n",
       "      <td>21185.250000</td>\n",
       "      <td>21459.000000</td>\n",
       "      <td>21137.200000</td>\n",
       "      <td>21238.800000</td>\n",
       "    </tr>\n",
       "    <tr>\n",
       "      <th>25%</th>\n",
       "      <td>22020.300000</td>\n",
       "      <td>22126.800000</td>\n",
       "      <td>21905.650000</td>\n",
       "      <td>22011.950000</td>\n",
       "    </tr>\n",
       "    <tr>\n",
       "      <th>50%</th>\n",
       "      <td>22458.800000</td>\n",
       "      <td>22526.600000</td>\n",
       "      <td>22358.300000</td>\n",
       "      <td>22462.000000</td>\n",
       "    </tr>\n",
       "    <tr>\n",
       "      <th>75%</th>\n",
       "      <td>23723.100000</td>\n",
       "      <td>23889.900000</td>\n",
       "      <td>23670.450000</td>\n",
       "      <td>23868.800000</td>\n",
       "    </tr>\n",
       "    <tr>\n",
       "      <th>max</th>\n",
       "      <td>25030.950000</td>\n",
       "      <td>25078.300000</td>\n",
       "      <td>24956.400000</td>\n",
       "      <td>25010.900000</td>\n",
       "    </tr>\n",
       "  </tbody>\n",
       "</table>\n",
       "</div>"
      ],
      "text/plain": [
       "               Open          High           Low         Close\n",
       "count    161.000000    161.000000    161.000000    161.000000\n",
       "mean   22842.716770  22941.286957  22712.499068  22833.005280\n",
       "std     1062.406555   1054.714306   1071.879696   1067.910975\n",
       "min    21185.250000  21459.000000  21137.200000  21238.800000\n",
       "25%    22020.300000  22126.800000  21905.650000  22011.950000\n",
       "50%    22458.800000  22526.600000  22358.300000  22462.000000\n",
       "75%    23723.100000  23889.900000  23670.450000  23868.800000\n",
       "max    25030.950000  25078.300000  24956.400000  25010.900000"
      ]
     },
     "execution_count": 5,
     "metadata": {},
     "output_type": "execute_result"
    }
   ],
   "source": [
    "nifty.describe()"
   ]
  },
  {
   "cell_type": "code",
   "execution_count": 6,
   "id": "35bd3c2f-7f56-4a81-8c52-431ed1889a73",
   "metadata": {},
   "outputs": [],
   "source": [
    "##Checking for missing values"
   ]
  },
  {
   "cell_type": "code",
   "execution_count": 9,
   "id": "1fc972bb-1f31-4dd8-85c9-4c0e32605b8d",
   "metadata": {},
   "outputs": [
    {
     "data": {
      "text/plain": [
       "Index Name    0\n",
       "Date          0\n",
       "Open          0\n",
       "High          0\n",
       "Low           0\n",
       "Close         0\n",
       "dtype: int64"
      ]
     },
     "execution_count": 9,
     "metadata": {},
     "output_type": "execute_result"
    }
   ],
   "source": [
    "nifty.isnull().sum()"
   ]
  },
  {
   "cell_type": "code",
   "execution_count": 16,
   "id": "9fe47ed7-bffb-44a8-9171-afe281da40d5",
   "metadata": {},
   "outputs": [
    {
     "data": {
      "text/html": [
       "<div>\n",
       "<style scoped>\n",
       "    .dataframe tbody tr th:only-of-type {\n",
       "        vertical-align: middle;\n",
       "    }\n",
       "\n",
       "    .dataframe tbody tr th {\n",
       "        vertical-align: top;\n",
       "    }\n",
       "\n",
       "    .dataframe thead th {\n",
       "        text-align: right;\n",
       "    }\n",
       "</style>\n",
       "<table border=\"1\" class=\"dataframe\">\n",
       "  <thead>\n",
       "    <tr style=\"text-align: right;\">\n",
       "      <th></th>\n",
       "      <th>Index Name</th>\n",
       "      <th>Date</th>\n",
       "      <th>Open</th>\n",
       "      <th>High</th>\n",
       "      <th>Low</th>\n",
       "      <th>Close</th>\n",
       "    </tr>\n",
       "  </thead>\n",
       "  <tbody>\n",
       "  </tbody>\n",
       "</table>\n",
       "</div>"
      ],
      "text/plain": [
       "Empty DataFrame\n",
       "Columns: [Index Name, Date, Open, High, Low, Close]\n",
       "Index: []"
      ]
     },
     "execution_count": 16,
     "metadata": {},
     "output_type": "execute_result"
    }
   ],
   "source": [
    "nifty[nifty.isna().any(axis=True)]"
   ]
  },
  {
   "cell_type": "code",
   "execution_count": 17,
   "id": "d01e4b2f-126c-48fd-882d-5aa6cdbbea57",
   "metadata": {},
   "outputs": [],
   "source": [
    "##Checking for outliers\n"
   ]
  },
  {
   "cell_type": "code",
   "execution_count": 18,
   "id": "bc299cd3-d708-4eba-8009-2f0cc175af5c",
   "metadata": {},
   "outputs": [
    {
     "data": {
      "text/plain": [
       "<AxesSubplot: >"
      ]
     },
     "execution_count": 18,
     "metadata": {},
     "output_type": "execute_result"
    },
    {
     "data": {
      "image/png": "[encoded data removed]",
      "text/plain": [
       "<Figure size 640x480 with 1 Axes>"
      ]
     },
     "metadata": {},
     "output_type": "display_data"
    }
   ],
   "source": [
    "sns.set_theme()\n",
    "sns.boxplot(nifty)"
   ]
  },
  {
   "cell_type": "code",
   "execution_count": 19,
   "id": "4f8549e7-c906-4f6a-b5b8-80f4ae85c556",
   "metadata": {},
   "outputs": [],
   "source": [
    "## The data has no outliers"
   ]
  },
  {
   "cell_type": "code",
   "execution_count": 20,
   "id": "24070928-5ebc-49eb-aa0b-dc9e11716e14",
   "metadata": {},
   "outputs": [],
   "source": [
    "##Removing unwanted features"
   ]
  },
  {
   "cell_type": "code",
   "execution_count": 22,
   "id": "7e8a1fa4-78ca-45b9-84aa-49e64037856a",
   "metadata": {},
   "outputs": [],
   "source": [
    "nifty=nifty.drop(['Index Name','Date'],axis=1)"
   ]
  },
  {
   "cell_type": "code",
   "execution_count": 23,
   "id": "2e561a3a-2960-4ea0-816d-e36660777dc4",
   "metadata": {},
   "outputs": [
    {
     "data": {
      "text/html": [
       "<div>\n",
       "<style scoped>\n",
       "    .dataframe tbody tr th:only-of-type {\n",
       "        vertical-align: middle;\n",
       "    }\n",
       "\n",
       "    .dataframe tbody tr th {\n",
       "        vertical-align: top;\n",
       "    }\n",
       "\n",
       "    .dataframe thead th {\n",
       "        text-align: right;\n",
       "    }\n",
       "</style>\n",
       "<table border=\"1\" class=\"dataframe\">\n",
       "  <thead>\n",
       "    <tr style=\"text-align: right;\">\n",
       "      <th></th>\n",
       "      <th>Open</th>\n",
       "      <th>High</th>\n",
       "      <th>Low</th>\n",
       "      <th>Close</th>\n",
       "    </tr>\n",
       "  </thead>\n",
       "  <tbody>\n",
       "    <tr>\n",
       "      <th>0</th>\n",
       "      <td>24845.40</td>\n",
       "      <td>24858.40</td>\n",
       "      <td>24771.65</td>\n",
       "      <td>24823.15</td>\n",
       "    </tr>\n",
       "    <tr>\n",
       "      <th>1</th>\n",
       "      <td>24863.40</td>\n",
       "      <td>24867.35</td>\n",
       "      <td>24784.45</td>\n",
       "      <td>24811.50</td>\n",
       "    </tr>\n",
       "    <tr>\n",
       "      <th>2</th>\n",
       "      <td>24680.55</td>\n",
       "      <td>24787.95</td>\n",
       "      <td>24654.50</td>\n",
       "      <td>24770.20</td>\n",
       "    </tr>\n",
       "    <tr>\n",
       "      <th>3</th>\n",
       "      <td>24648.90</td>\n",
       "      <td>24734.30</td>\n",
       "      <td>24607.20</td>\n",
       "      <td>24698.85</td>\n",
       "    </tr>\n",
       "    <tr>\n",
       "      <th>4</th>\n",
       "      <td>24636.35</td>\n",
       "      <td>24638.80</td>\n",
       "      <td>24522.95</td>\n",
       "      <td>24572.65</td>\n",
       "    </tr>\n",
       "    <tr>\n",
       "      <th>...</th>\n",
       "      <td>...</td>\n",
       "      <td>...</td>\n",
       "      <td>...</td>\n",
       "      <td>...</td>\n",
       "    </tr>\n",
       "    <tr>\n",
       "      <th>156</th>\n",
       "      <td>21705.75</td>\n",
       "      <td>21749.60</td>\n",
       "      <td>21629.20</td>\n",
       "      <td>21710.80</td>\n",
       "    </tr>\n",
       "    <tr>\n",
       "      <th>157</th>\n",
       "      <td>21605.80</td>\n",
       "      <td>21685.65</td>\n",
       "      <td>21564.55</td>\n",
       "      <td>21658.60</td>\n",
       "    </tr>\n",
       "    <tr>\n",
       "      <th>158</th>\n",
       "      <td>21661.10</td>\n",
       "      <td>21677.00</td>\n",
       "      <td>21500.35</td>\n",
       "      <td>21517.35</td>\n",
       "    </tr>\n",
       "    <tr>\n",
       "      <th>159</th>\n",
       "      <td>21751.35</td>\n",
       "      <td>21755.60</td>\n",
       "      <td>21555.65</td>\n",
       "      <td>21665.80</td>\n",
       "    </tr>\n",
       "    <tr>\n",
       "      <th>160</th>\n",
       "      <td>21727.75</td>\n",
       "      <td>21834.35</td>\n",
       "      <td>21680.85</td>\n",
       "      <td>21741.90</td>\n",
       "    </tr>\n",
       "  </tbody>\n",
       "</table>\n",
       "<p>161 rows × 4 columns</p>\n",
       "</div>"
      ],
      "text/plain": [
       "         Open      High       Low     Close\n",
       "0    24845.40  24858.40  24771.65  24823.15\n",
       "1    24863.40  24867.35  24784.45  24811.50\n",
       "2    24680.55  24787.95  24654.50  24770.20\n",
       "3    24648.90  24734.30  24607.20  24698.85\n",
       "4    24636.35  24638.80  24522.95  24572.65\n",
       "..        ...       ...       ...       ...\n",
       "156  21705.75  21749.60  21629.20  21710.80\n",
       "157  21605.80  21685.65  21564.55  21658.60\n",
       "158  21661.10  21677.00  21500.35  21517.35\n",
       "159  21751.35  21755.60  21555.65  21665.80\n",
       "160  21727.75  21834.35  21680.85  21741.90\n",
       "\n",
       "[161 rows x 4 columns]"
      ]
     },
     "execution_count": 23,
     "metadata": {},
     "output_type": "execute_result"
    }
   ],
   "source": [
    "nifty"
   ]
  },
  {
   "cell_type": "code",
   "execution_count": 24,
   "id": "d182e358-b5a2-4ea4-a481-1e4cb3f4a07b",
   "metadata": {},
   "outputs": [],
   "source": [
    "##Checking for Correlation between features\n"
   ]
  },
  {
   "cell_type": "code",
   "execution_count": 26,
   "id": "b7a9196a-f6d4-454f-a9d8-4fdd7031ff95",
   "metadata": {},
   "outputs": [
    {
     "data": {
      "text/plain": [
       "<AxesSubplot: >"
      ]
     },
     "execution_count": 26,
     "metadata": {},
     "output_type": "execute_result"
    },
    {
     "data": {
      "image/png": "[encoded data removed]",
      "text/plain": [
       "<Figure size 640x480 with 2 Axes>"
      ]
     },
     "metadata": {},
     "output_type": "display_data"
    }
   ],
   "source": [
    "sns.heatmap(nifty.corr(),annot=True)"
   ]
  },
  {
   "cell_type": "code",
   "execution_count": 27,
   "id": "4393d125-9f83-4805-8be9-3c2270e502fa",
   "metadata": {},
   "outputs": [],
   "source": [
    "## Seperating into Features and target"
   ]
  },
  {
   "cell_type": "markdown",
   "id": "237b2817-9391-4f65-8b29-030f28d580b1",
   "metadata": {},
   "source": [
    "Since we want to predict next day's clsoing price, we will add the next day's closing price as another feature"
   ]
  },
  {
   "cell_type": "code",
   "execution_count": 28,
   "id": "9fc2ae3a-248e-4be4-b08e-c5c093075623",
   "metadata": {},
   "outputs": [],
   "source": [
    "nifty['Next_day']=nifty['Close'].shift(-1)"
   ]
  },
  {
   "cell_type": "markdown",
   "id": "515306fe-1165-4cf5-8069-266fcffafc8f",
   "metadata": {},
   "source": [
    "checking correlation again"
   ]
  },
  {
   "cell_type": "code",
   "execution_count": 30,
   "id": "6179bd84-c0ba-40f4-a4a7-1c311fabeae9",
   "metadata": {},
   "outputs": [
    {
     "data": {
      "text/html": [
       "<div>\n",
       "<style scoped>\n",
       "    .dataframe tbody tr th:only-of-type {\n",
       "        vertical-align: middle;\n",
       "    }\n",
       "\n",
       "    .dataframe tbody tr th {\n",
       "        vertical-align: top;\n",
       "    }\n",
       "\n",
       "    .dataframe thead th {\n",
       "        text-align: right;\n",
       "    }\n",
       "</style>\n",
       "<table border=\"1\" class=\"dataframe\">\n",
       "  <thead>\n",
       "    <tr style=\"text-align: right;\">\n",
       "      <th></th>\n",
       "      <th>Open</th>\n",
       "      <th>High</th>\n",
       "      <th>Low</th>\n",
       "      <th>Close</th>\n",
       "      <th>Next_day</th>\n",
       "    </tr>\n",
       "  </thead>\n",
       "  <tbody>\n",
       "    <tr>\n",
       "      <th>Open</th>\n",
       "      <td>1.000000</td>\n",
       "      <td>0.995534</td>\n",
       "      <td>0.986706</td>\n",
       "      <td>0.985423</td>\n",
       "      <td>0.993990</td>\n",
       "    </tr>\n",
       "    <tr>\n",
       "      <th>High</th>\n",
       "      <td>0.995534</td>\n",
       "      <td>1.000000</td>\n",
       "      <td>0.986576</td>\n",
       "      <td>0.992422</td>\n",
       "      <td>0.991416</td>\n",
       "    </tr>\n",
       "    <tr>\n",
       "      <th>Low</th>\n",
       "      <td>0.986706</td>\n",
       "      <td>0.986576</td>\n",
       "      <td>1.000000</td>\n",
       "      <td>0.993975</td>\n",
       "      <td>0.981490</td>\n",
       "    </tr>\n",
       "    <tr>\n",
       "      <th>Close</th>\n",
       "      <td>0.985423</td>\n",
       "      <td>0.992422</td>\n",
       "      <td>0.993975</td>\n",
       "      <td>1.000000</td>\n",
       "      <td>0.980086</td>\n",
       "    </tr>\n",
       "    <tr>\n",
       "      <th>Next_day</th>\n",
       "      <td>0.993990</td>\n",
       "      <td>0.991416</td>\n",
       "      <td>0.981490</td>\n",
       "      <td>0.980086</td>\n",
       "      <td>1.000000</td>\n",
       "    </tr>\n",
       "  </tbody>\n",
       "</table>\n",
       "</div>"
      ],
      "text/plain": [
       "              Open      High       Low     Close  Next_day\n",
       "Open      1.000000  0.995534  0.986706  0.985423  0.993990\n",
       "High      0.995534  1.000000  0.986576  0.992422  0.991416\n",
       "Low       0.986706  0.986576  1.000000  0.993975  0.981490\n",
       "Close     0.985423  0.992422  0.993975  1.000000  0.980086\n",
       "Next_day  0.993990  0.991416  0.981490  0.980086  1.000000"
      ]
     },
     "execution_count": 30,
     "metadata": {},
     "output_type": "execute_result"
    }
   ],
   "source": [
    "nifty.corr()"
   ]
  },
  {
   "cell_type": "markdown",
   "id": "339f1552-3231-4939-bc7f-97cb9cb19b37",
   "metadata": {},
   "source": [
    "Since all features are highly correalated, will not remove any feature"
   ]
  },
  {
   "cell_type": "code",
   "execution_count": 31,
   "id": "cd66b3a6-10f5-449e-85ff-b0bcf626f6d4",
   "metadata": {},
   "outputs": [],
   "source": [
    "##Splitting into X and Y"
   ]
  },
  {
   "cell_type": "code",
   "execution_count": 35,
   "id": "b1291800-46ac-4e5c-9241-31f7253ee267",
   "metadata": {},
   "outputs": [],
   "source": [
    "x=nifty.drop(['Next_day'],axis=True)"
   ]
  },
  {
   "cell_type": "code",
   "execution_count": 36,
   "id": "838681f9-2ae4-4852-b537-ffde4dc7ce5a",
   "metadata": {},
   "outputs": [
    {
     "data": {
      "text/html": [
       "<div>\n",
       "<style scoped>\n",
       "    .dataframe tbody tr th:only-of-type {\n",
       "        vertical-align: middle;\n",
       "    }\n",
       "\n",
       "    .dataframe tbody tr th {\n",
       "        vertical-align: top;\n",
       "    }\n",
       "\n",
       "    .dataframe thead th {\n",
       "        text-align: right;\n",
       "    }\n",
       "</style>\n",
       "<table border=\"1\" class=\"dataframe\">\n",
       "  <thead>\n",
       "    <tr style=\"text-align: right;\">\n",
       "      <th></th>\n",
       "      <th>Open</th>\n",
       "      <th>High</th>\n",
       "      <th>Low</th>\n",
       "      <th>Close</th>\n",
       "    </tr>\n",
       "  </thead>\n",
       "  <tbody>\n",
       "    <tr>\n",
       "      <th>0</th>\n",
       "      <td>24845.40</td>\n",
       "      <td>24858.40</td>\n",
       "      <td>24771.65</td>\n",
       "      <td>24823.15</td>\n",
       "    </tr>\n",
       "    <tr>\n",
       "      <th>1</th>\n",
       "      <td>24863.40</td>\n",
       "      <td>24867.35</td>\n",
       "      <td>24784.45</td>\n",
       "      <td>24811.50</td>\n",
       "    </tr>\n",
       "    <tr>\n",
       "      <th>2</th>\n",
       "      <td>24680.55</td>\n",
       "      <td>24787.95</td>\n",
       "      <td>24654.50</td>\n",
       "      <td>24770.20</td>\n",
       "    </tr>\n",
       "    <tr>\n",
       "      <th>3</th>\n",
       "      <td>24648.90</td>\n",
       "      <td>24734.30</td>\n",
       "      <td>24607.20</td>\n",
       "      <td>24698.85</td>\n",
       "    </tr>\n",
       "    <tr>\n",
       "      <th>4</th>\n",
       "      <td>24636.35</td>\n",
       "      <td>24638.80</td>\n",
       "      <td>24522.95</td>\n",
       "      <td>24572.65</td>\n",
       "    </tr>\n",
       "    <tr>\n",
       "      <th>...</th>\n",
       "      <td>...</td>\n",
       "      <td>...</td>\n",
       "      <td>...</td>\n",
       "      <td>...</td>\n",
       "    </tr>\n",
       "    <tr>\n",
       "      <th>156</th>\n",
       "      <td>21705.75</td>\n",
       "      <td>21749.60</td>\n",
       "      <td>21629.20</td>\n",
       "      <td>21710.80</td>\n",
       "    </tr>\n",
       "    <tr>\n",
       "      <th>157</th>\n",
       "      <td>21605.80</td>\n",
       "      <td>21685.65</td>\n",
       "      <td>21564.55</td>\n",
       "      <td>21658.60</td>\n",
       "    </tr>\n",
       "    <tr>\n",
       "      <th>158</th>\n",
       "      <td>21661.10</td>\n",
       "      <td>21677.00</td>\n",
       "      <td>21500.35</td>\n",
       "      <td>21517.35</td>\n",
       "    </tr>\n",
       "    <tr>\n",
       "      <th>159</th>\n",
       "      <td>21751.35</td>\n",
       "      <td>21755.60</td>\n",
       "      <td>21555.65</td>\n",
       "      <td>21665.80</td>\n",
       "    </tr>\n",
       "    <tr>\n",
       "      <th>160</th>\n",
       "      <td>21727.75</td>\n",
       "      <td>21834.35</td>\n",
       "      <td>21680.85</td>\n",
       "      <td>21741.90</td>\n",
       "    </tr>\n",
       "  </tbody>\n",
       "</table>\n",
       "<p>161 rows × 4 columns</p>\n",
       "</div>"
      ],
      "text/plain": [
       "         Open      High       Low     Close\n",
       "0    24845.40  24858.40  24771.65  24823.15\n",
       "1    24863.40  24867.35  24784.45  24811.50\n",
       "2    24680.55  24787.95  24654.50  24770.20\n",
       "3    24648.90  24734.30  24607.20  24698.85\n",
       "4    24636.35  24638.80  24522.95  24572.65\n",
       "..        ...       ...       ...       ...\n",
       "156  21705.75  21749.60  21629.20  21710.80\n",
       "157  21605.80  21685.65  21564.55  21658.60\n",
       "158  21661.10  21677.00  21500.35  21517.35\n",
       "159  21751.35  21755.60  21555.65  21665.80\n",
       "160  21727.75  21834.35  21680.85  21741.90\n",
       "\n",
       "[161 rows x 4 columns]"
      ]
     },
     "execution_count": 36,
     "metadata": {},
     "output_type": "execute_result"
    }
   ],
   "source": [
    "x"
   ]
  },
  {
   "cell_type": "code",
   "execution_count": 100,
   "id": "74b0a922-334b-4f8c-846b-a3ea29ecc985",
   "metadata": {},
   "outputs": [],
   "source": [
    "y=nifty['Next_day']"
   ]
  },
  {
   "cell_type": "code",
   "execution_count": 99,
   "id": "d20dd138-4059-472f-8715-53e5a4224865",
   "metadata": {},
   "outputs": [
    {
     "data": {
      "text/html": [
       "<div>\n",
       "<style scoped>\n",
       "    .dataframe tbody tr th:only-of-type {\n",
       "        vertical-align: middle;\n",
       "    }\n",
       "\n",
       "    .dataframe tbody tr th {\n",
       "        vertical-align: top;\n",
       "    }\n",
       "\n",
       "    .dataframe thead th {\n",
       "        text-align: right;\n",
       "    }\n",
       "</style>\n",
       "<table border=\"1\" class=\"dataframe\">\n",
       "  <thead>\n",
       "    <tr style=\"text-align: right;\">\n",
       "      <th></th>\n",
       "      <th>Next_day</th>\n",
       "    </tr>\n",
       "  </thead>\n",
       "  <tbody>\n",
       "    <tr>\n",
       "      <th>0</th>\n",
       "      <td>24811.50</td>\n",
       "    </tr>\n",
       "    <tr>\n",
       "      <th>1</th>\n",
       "      <td>24770.20</td>\n",
       "    </tr>\n",
       "    <tr>\n",
       "      <th>2</th>\n",
       "      <td>24698.85</td>\n",
       "    </tr>\n",
       "    <tr>\n",
       "      <th>3</th>\n",
       "      <td>24572.65</td>\n",
       "    </tr>\n",
       "    <tr>\n",
       "      <th>4</th>\n",
       "      <td>24541.15</td>\n",
       "    </tr>\n",
       "  </tbody>\n",
       "</table>\n",
       "</div>"
      ],
      "text/plain": [
       "   Next_day\n",
       "0  24811.50\n",
       "1  24770.20\n",
       "2  24698.85\n",
       "3  24572.65\n",
       "4  24541.15"
      ]
     },
     "execution_count": 99,
     "metadata": {},
     "output_type": "execute_result"
    }
   ],
   "source": [
    "y.head()"
   ]
  },
  {
   "cell_type": "code",
   "execution_count": 45,
   "id": "00d85291-c0e2-449a-95fc-afef85b2f998",
   "metadata": {},
   "outputs": [],
   "source": [
    "from sklearn.model_selection import train_test_split"
   ]
  },
  {
   "cell_type": "code",
   "execution_count": 101,
   "id": "bb6eae68-1eef-456b-9591-850d498cfdaf",
   "metadata": {},
   "outputs": [],
   "source": [
    "##Splitting into test and train\n",
    "x_train,x_test,y_train,y_test=train_test_split(x,y,train_size=.8)"
   ]
  },
  {
   "cell_type": "code",
   "execution_count": 47,
   "id": "bcdbdd31-34a3-4c29-b916-d549d9215bea",
   "metadata": {},
   "outputs": [],
   "source": [
    "from sklearn.preprocessing import StandardScaler"
   ]
  },
  {
   "cell_type": "code",
   "execution_count": 48,
   "id": "7c6316c6-f141-4b78-9eab-150f467f24e9",
   "metadata": {},
   "outputs": [],
   "source": [
    "##Scalting the features"
   ]
  },
  {
   "cell_type": "code",
   "execution_count": 102,
   "id": "9e64a3df-116c-46eb-91a5-ecc5adc70c53",
   "metadata": {},
   "outputs": [],
   "source": [
    "scaler=StandardScaler()"
   ]
  },
  {
   "cell_type": "code",
   "execution_count": 103,
   "id": "087e7f12-a1a0-4aa0-ad16-24d637f05019",
   "metadata": {},
   "outputs": [
    {
     "data": {
      "text/html": [
       "<style>#sk-container-id-3 {color: black;background-color: white;}#sk-container-id-3 pre{padding: 0;}#sk-container-id-3 div.sk-toggleable {background-color: white;}#sk-container-id-3 label.sk-toggleable__label {cursor: pointer;display: block;width: 100%;margin-bottom: 0;padding: 0.3em;box-sizing: border-box;text-align: center;}#sk-container-id-3 label.sk-toggleable__label-arrow:before {content: \"▸\";float: left;margin-right: 0.25em;color: #696969;}#sk-container-id-3 label.sk-toggleable__label-arrow:hover:before {color: black;}#sk-container-id-3 div.sk-estimator:hover label.sk-toggleable__label-arrow:before {color: black;}#sk-container-id-3 div.sk-toggleable__content {max-height: 0;max-width: 0;overflow: hidden;text-align: left;background-color: #f0f8ff;}#sk-container-id-3 div.sk-toggleable__content pre {margin: 0.2em;color: black;border-radius: 0.25em;background-color: #f0f8ff;}#sk-container-id-3 input.sk-toggleable__control:checked~div.sk-toggleable__content {max-height: 200px;max-width: 100%;overflow: auto;}#sk-container-id-3 input.sk-toggleable__control:checked~label.sk-toggleable__label-arrow:before {content: \"▾\";}#sk-container-id-3 div.sk-estimator input.sk-toggleable__control:checked~label.sk-toggleable__label {background-color: #d4ebff;}#sk-container-id-3 div.sk-label input.sk-toggleable__control:checked~label.sk-toggleable__label {background-color: #d4ebff;}#sk-container-id-3 input.sk-hidden--visually {border: 0;clip: rect(1px 1px 1px 1px);clip: rect(1px, 1px, 1px, 1px);height: 1px;margin: -1px;overflow: hidden;padding: 0;position: absolute;width: 1px;}#sk-container-id-3 div.sk-estimator {font-family: monospace;background-color: #f0f8ff;border: 1px dotted black;border-radius: 0.25em;box-sizing: border-box;margin-bottom: 0.5em;}#sk-container-id-3 div.sk-estimator:hover {background-color: #d4ebff;}#sk-container-id-3 div.sk-parallel-item::after {content: \"\";width: 100%;border-bottom: 1px solid gray;flex-grow: 1;}#sk-container-id-3 div.sk-label:hover label.sk-toggleable__label {background-color: #d4ebff;}#sk-container-id-3 div.sk-serial::before {content: \"\";position: absolute;border-left: 1px solid gray;box-sizing: border-box;top: 0;bottom: 0;left: 50%;z-index: 0;}#sk-container-id-3 div.sk-serial {display: flex;flex-direction: column;align-items: center;background-color: white;padding-right: 0.2em;padding-left: 0.2em;position: relative;}#sk-container-id-3 div.sk-item {position: relative;z-index: 1;}#sk-container-id-3 div.sk-parallel {display: flex;align-items: stretch;justify-content: center;background-color: white;position: relative;}#sk-container-id-3 div.sk-item::before, #sk-container-id-3 div.sk-parallel-item::before {content: \"\";position: absolute;border-left: 1px solid gray;box-sizing: border-box;top: 0;bottom: 0;left: 50%;z-index: -1;}#sk-container-id-3 div.sk-parallel-item {display: flex;flex-direction: column;z-index: 1;position: relative;background-color: white;}#sk-container-id-3 div.sk-parallel-item:first-child::after {align-self: flex-end;width: 50%;}#sk-container-id-3 div.sk-parallel-item:last-child::after {align-self: flex-start;width: 50%;}#sk-container-id-3 div.sk-parallel-item:only-child::after {width: 0;}#sk-container-id-3 div.sk-dashed-wrapped {border: 1px dashed gray;margin: 0 0.4em 0.5em 0.4em;box-sizing: border-box;padding-bottom: 0.4em;background-color: white;}#sk-container-id-3 div.sk-label label {font-family: monospace;font-weight: bold;display: inline-block;line-height: 1.2em;}#sk-container-id-3 div.sk-label-container {text-align: center;}#sk-container-id-3 div.sk-container {/* jupyter's `normalize.less` sets `[hidden] { display: none; }` but bootstrap.min.css set `[hidden] { display: none !important; }` so we also need the `!important` here to be able to override the default hidden behavior on the sphinx rendered scikit-learn.org. See: https://github.com/scikit-learn/scikit-learn/issues/21755 */display: inline-block !important;position: relative;}#sk-container-id-3 div.sk-text-repr-fallback {display: none;}</style><div id=\"sk-container-id-3\" class=\"sk-top-container\"><div class=\"sk-text-repr-fallback\"><pre>StandardScaler()</pre><b>In a Jupyter environment, please rerun this cell to show the HTML representation or trust the notebook. <br />On GitHub, the HTML representation is unable to render, please try loading this page with nbviewer.org.</b></div><div class=\"sk-container\" hidden><div class=\"sk-item\"><div class=\"sk-estimator sk-toggleable\"><input class=\"sk-toggleable__control sk-hidden--visually\" id=\"sk-estimator-id-3\" type=\"checkbox\" checked><label for=\"sk-estimator-id-3\" class=\"sk-toggleable__label sk-toggleable__label-arrow\">StandardScaler</label><div class=\"sk-toggleable__content\"><pre>StandardScaler()</pre></div></div></div></div></div>"
      ],
      "text/plain": [
       "StandardScaler()"
      ]
     },
     "execution_count": 103,
     "metadata": {},
     "output_type": "execute_result"
    }
   ],
   "source": [
    "scaler.fit(x_train)"
   ]
  },
  {
   "cell_type": "code",
   "execution_count": 104,
   "id": "95637a3d-e0dd-4458-8afa-21f9ff46de66",
   "metadata": {},
   "outputs": [],
   "source": [
    "x_train_scaled=scaler.transform(x_train)"
   ]
  },
  {
   "cell_type": "code",
   "execution_count": 105,
   "id": "7361223a-2058-4ef8-aec1-6177e2f66f08",
   "metadata": {},
   "outputs": [],
   "source": [
    "x_test_scaled=scaler.transform(x_test)"
   ]
  },
  {
   "cell_type": "code",
   "execution_count": 106,
   "id": "3c221aa9-c088-49b4-8274-29e6ddac6a77",
   "metadata": {},
   "outputs": [],
   "source": [
    "## Importing the Linera Regression Model\n",
    "from sklearn.linear_model import LinearRegression"
   ]
  },
  {
   "cell_type": "code",
   "execution_count": 107,
   "id": "462fcb93-7f2c-4a82-b180-440553fa92d9",
   "metadata": {},
   "outputs": [],
   "source": [
    "regressor=LinearRegression()"
   ]
  },
  {
   "cell_type": "code",
   "execution_count": 108,
   "id": "09447e0c-7d1f-410c-b191-51ab03bd9e37",
   "metadata": {},
   "outputs": [
    {
     "data": {
      "text/plain": [
       "1"
      ]
     },
     "execution_count": 108,
     "metadata": {},
     "output_type": "execute_result"
    }
   ],
   "source": [
    "y_train.isnull().sum()"
   ]
  },
  {
   "cell_type": "code",
   "execution_count": 110,
   "id": "3aa126e7-06c8-4e11-a761-dd4eed870873",
   "metadata": {},
   "outputs": [],
   "source": [
    "y_train=y_train.fillna(y_train.mean())"
   ]
  },
  {
   "cell_type": "code",
   "execution_count": 111,
   "id": "816c638e-76fd-420c-8721-fea857647a24",
   "metadata": {},
   "outputs": [],
   "source": [
    "y_test=y_test.fillna(y_test.mean())"
   ]
  },
  {
   "cell_type": "code",
   "execution_count": 65,
   "id": "8ebd60cf-d5fc-44b3-9a31-453429831892",
   "metadata": {},
   "outputs": [],
   "source": [
    "## Mean Imputaion for missing values"
   ]
  },
  {
   "cell_type": "code",
   "execution_count": 112,
   "id": "6326a47a-8135-4801-a9c5-e1f1385edda0",
   "metadata": {},
   "outputs": [
    {
     "data": {
      "text/html": [
       "<style>#sk-container-id-4 {color: black;background-color: white;}#sk-container-id-4 pre{padding: 0;}#sk-container-id-4 div.sk-toggleable {background-color: white;}#sk-container-id-4 label.sk-toggleable__label {cursor: pointer;display: block;width: 100%;margin-bottom: 0;padding: 0.3em;box-sizing: border-box;text-align: center;}#sk-container-id-4 label.sk-toggleable__label-arrow:before {content: \"▸\";float: left;margin-right: 0.25em;color: #696969;}#sk-container-id-4 label.sk-toggleable__label-arrow:hover:before {color: black;}#sk-container-id-4 div.sk-estimator:hover label.sk-toggleable__label-arrow:before {color: black;}#sk-container-id-4 div.sk-toggleable__content {max-height: 0;max-width: 0;overflow: hidden;text-align: left;background-color: #f0f8ff;}#sk-container-id-4 div.sk-toggleable__content pre {margin: 0.2em;color: black;border-radius: 0.25em;background-color: #f0f8ff;}#sk-container-id-4 input.sk-toggleable__control:checked~div.sk-toggleable__content {max-height: 200px;max-width: 100%;overflow: auto;}#sk-container-id-4 input.sk-toggleable__control:checked~label.sk-toggleable__label-arrow:before {content: \"▾\";}#sk-container-id-4 div.sk-estimator input.sk-toggleable__control:checked~label.sk-toggleable__label {background-color: #d4ebff;}#sk-container-id-4 div.sk-label input.sk-toggleable__control:checked~label.sk-toggleable__label {background-color: #d4ebff;}#sk-container-id-4 input.sk-hidden--visually {border: 0;clip: rect(1px 1px 1px 1px);clip: rect(1px, 1px, 1px, 1px);height: 1px;margin: -1px;overflow: hidden;padding: 0;position: absolute;width: 1px;}#sk-container-id-4 div.sk-estimator {font-family: monospace;background-color: #f0f8ff;border: 1px dotted black;border-radius: 0.25em;box-sizing: border-box;margin-bottom: 0.5em;}#sk-container-id-4 div.sk-estimator:hover {background-color: #d4ebff;}#sk-container-id-4 div.sk-parallel-item::after {content: \"\";width: 100%;border-bottom: 1px solid gray;flex-grow: 1;}#sk-container-id-4 div.sk-label:hover label.sk-toggleable__label {background-color: #d4ebff;}#sk-container-id-4 div.sk-serial::before {content: \"\";position: absolute;border-left: 1px solid gray;box-sizing: border-box;top: 0;bottom: 0;left: 50%;z-index: 0;}#sk-container-id-4 div.sk-serial {display: flex;flex-direction: column;align-items: center;background-color: white;padding-right: 0.2em;padding-left: 0.2em;position: relative;}#sk-container-id-4 div.sk-item {position: relative;z-index: 1;}#sk-container-id-4 div.sk-parallel {display: flex;align-items: stretch;justify-content: center;background-color: white;position: relative;}#sk-container-id-4 div.sk-item::before, #sk-container-id-4 div.sk-parallel-item::before {content: \"\";position: absolute;border-left: 1px solid gray;box-sizing: border-box;top: 0;bottom: 0;left: 50%;z-index: -1;}#sk-container-id-4 div.sk-parallel-item {display: flex;flex-direction: column;z-index: 1;position: relative;background-color: white;}#sk-container-id-4 div.sk-parallel-item:first-child::after {align-self: flex-end;width: 50%;}#sk-container-id-4 div.sk-parallel-item:last-child::after {align-self: flex-start;width: 50%;}#sk-container-id-4 div.sk-parallel-item:only-child::after {width: 0;}#sk-container-id-4 div.sk-dashed-wrapped {border: 1px dashed gray;margin: 0 0.4em 0.5em 0.4em;box-sizing: border-box;padding-bottom: 0.4em;background-color: white;}#sk-container-id-4 div.sk-label label {font-family: monospace;font-weight: bold;display: inline-block;line-height: 1.2em;}#sk-container-id-4 div.sk-label-container {text-align: center;}#sk-container-id-4 div.sk-container {/* jupyter's `normalize.less` sets `[hidden] { display: none; }` but bootstrap.min.css set `[hidden] { display: none !important; }` so we also need the `!important` here to be able to override the default hidden behavior on the sphinx rendered scikit-learn.org. See: https://github.com/scikit-learn/scikit-learn/issues/21755 */display: inline-block !important;position: relative;}#sk-container-id-4 div.sk-text-repr-fallback {display: none;}</style><div id=\"sk-container-id-4\" class=\"sk-top-container\"><div class=\"sk-text-repr-fallback\"><pre>LinearRegression()</pre><b>In a Jupyter environment, please rerun this cell to show the HTML representation or trust the notebook. <br />On GitHub, the HTML representation is unable to render, please try loading this page with nbviewer.org.</b></div><div class=\"sk-container\" hidden><div class=\"sk-item\"><div class=\"sk-estimator sk-toggleable\"><input class=\"sk-toggleable__control sk-hidden--visually\" id=\"sk-estimator-id-4\" type=\"checkbox\" checked><label for=\"sk-estimator-id-4\" class=\"sk-toggleable__label sk-toggleable__label-arrow\">LinearRegression</label><div class=\"sk-toggleable__content\"><pre>LinearRegression()</pre></div></div></div></div></div>"
      ],
      "text/plain": [
       "LinearRegression()"
      ]
     },
     "execution_count": 112,
     "metadata": {},
     "output_type": "execute_result"
    }
   ],
   "source": [
    "regressor.fit(x_train_scaled,y_train)"
   ]
  },
  {
   "cell_type": "code",
   "execution_count": 113,
   "id": "36eb6862-22d0-408a-818b-eaee6c654c11",
   "metadata": {},
   "outputs": [],
   "source": [
    "y_pred=regressor.predict(x_test_scaled)"
   ]
  },
  {
   "cell_type": "code",
   "execution_count": 69,
   "id": "a63446c3-3141-4e36-9a67-5874a89be843",
   "metadata": {},
   "outputs": [],
   "source": [
    "##Checking r2 Score"
   ]
  },
  {
   "cell_type": "code",
   "execution_count": 114,
   "id": "5293f893-2613-492d-9cfb-371a4c6ad16d",
   "metadata": {},
   "outputs": [],
   "source": [
    "from sklearn.metrics import r2_score\n",
    "score=r2_score(y_test,y_pred)"
   ]
  },
  {
   "cell_type": "code",
   "execution_count": 115,
   "id": "8b67d380-099a-4a95-ad4f-ef78c9cce806",
   "metadata": {},
   "outputs": [
    {
     "data": {
      "text/plain": [
       "0.9681836923957451"
      ]
     },
     "execution_count": 115,
     "metadata": {},
     "output_type": "execute_result"
    }
   ],
   "source": [
    "score"
   ]
  },
  {
   "cell_type": "code",
   "execution_count": 116,
   "id": "d5a9b71f-6f7f-4fba-ae00-83bdb8e8357f",
   "metadata": {},
   "outputs": [
    {
     "name": "stdout",
     "output_type": "stream",
     "text": [
      "29061.428466736095\n",
      "97.69079999031733\n",
      "170.4741284381184\n"
     ]
    }
   ],
   "source": [
    "from sklearn.metrics import mean_squared_error,mean_absolute_error\n",
    "mse=mean_squared_error(y_test,y_pred)\n",
    "mae=mean_absolute_error(y_test,y_pred)\n",
    "rmse=np.sqrt(mse)\n",
    "print(mse)\n",
    "print(mae)\n",
    "print(rmse)"
   ]
  },
  {
   "cell_type": "code",
   "execution_count": 117,
   "id": "ce50d2e5-f57f-4bbc-a218-79745c37d046",
   "metadata": {},
   "outputs": [],
   "source": [
    "residuals=y_test-y_pred"
   ]
  },
  {
   "cell_type": "code",
   "execution_count": 126,
   "id": "347df081-a7df-4991-820e-bca7929dd884",
   "metadata": {},
   "outputs": [
    {
     "name": "stderr",
     "output_type": "stream",
     "text": [
      "/tmp/ipykernel_98/3562827250.py:4: UserWarning: \n",
      "\n",
      "`distplot` is a deprecated function and will be removed in seaborn v0.14.0.\n",
      "\n",
      "Please adapt your code to use either `displot` (a figure-level function with\n",
      "similar flexibility) or `histplot` (an axes-level function for histograms).\n",
      "\n",
      "For a guide to updating your code to use the new functions, please see\n",
      "https://gist.github.com/mwaskom/de44147ed2974457ad6372750bbe5751\n",
      "\n",
      "  sns.distplot(residuals,kde=True,ax=axes[0,1])\n"
     ]
    },
    {
     "data": {
      "text/plain": [
       "<AxesSubplot: xlabel='Next_day'>"
      ]
     },
     "execution_count": 126,
     "metadata": {},
     "output_type": "execute_result"
    },
    {
     "data": {
      "image/png": "[encoded data removed]",
      "text/plain": [
       "<Figure size 1000x1000 with 4 Axes>"
      ]
     },
     "metadata": {},
     "output_type": "display_data"
    }
   ],
   "source": [
    "## Visualizing the Regression\n",
    "fig,axes=plt.subplots(2,2,figsize=(10,10))\n",
    "sns.scatterplot(x=y_test,y=y_pred,ax=axes[0,0])\n",
    "sns.distplot(residuals,kde=True,ax=axes[0,1])\n",
    "sns.scatterplot(residuals,ax=axes[1,0])\n",
    "sns.scatterplot(x=residuals,y=y_pred,ax=axes[1,1])"
   ]
  },
  {
   "cell_type": "code",
   "execution_count": 129,
   "id": "3b8d40c6-9fa5-4981-9e74-ff1178f6fbe4",
   "metadata": {},
   "outputs": [],
   "source": [
    "import pickle as pkl"
   ]
  },
  {
   "cell_type": "code",
   "execution_count": 132,
   "id": "3bfd8291-3333-4af7-abf9-2994be80163d",
   "metadata": {},
   "outputs": [],
   "source": [
    "pkl.dump(regressor,file=open('regressor_nifty.pkl','wb'))"
   ]
  },
  {
   "cell_type": "code",
   "execution_count": 133,
   "id": "daa28e52-97c4-48e0-94c9-05fc3024d435",
   "metadata": {},
   "outputs": [],
   "source": [
    "pkl.dump(scaler,file=open('scaler_nifty.pkl','wb'))"
   ]
  },
  {
   "cell_type": "code",
   "execution_count": null,
   "id": "9dafcb03-9392-4edf-8dc3-34d01ef6c8c4",
   "metadata": {},
   "outputs": [],
   "source": []
  }
 ],
 "metadata": {
  "kernelspec": {
   "display_name": "Python 3 (ipykernel)",
   "language": "python",
   "name": "python3"
  },
  "language_info": {
   "codemirror_mode": {
    "name": "ipython",
    "version": 3
   },
   "file_extension": ".py",
   "mimetype": "text/x-python",
   "name": "python",
   "nbconvert_exporter": "python",
   "pygments_lexer": "ipython3",
   "version": "3.10.8"
  }
 },
 "nbformat": 4,
 "nbformat_minor": 5
}
