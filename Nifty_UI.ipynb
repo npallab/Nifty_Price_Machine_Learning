{
 "cells": [
  {
   "cell_type": "code",
   "execution_count": 1,
   "id": "bdffc9fc-2af5-48e8-bcd2-1ac3861d3522",
   "metadata": {},
   "outputs": [],
   "source": [
    "import warnings \n",
    "warnings.filterwarnings('ignore') "
   ]
  },
  {
   "cell_type": "code",
   "execution_count": 2,
   "id": "05b9de46-52bf-475d-ba49-caf29d3faeec",
   "metadata": {},
   "outputs": [],
   "source": [
    "import pickle as pkl"
   ]
  },
  {
   "cell_type": "code",
   "execution_count": 3,
   "id": "542d8727-8491-45fa-a99c-c962fdb420f9",
   "metadata": {},
   "outputs": [],
   "source": [
    "import numpy as np"
   ]
  },
  {
   "cell_type": "code",
   "execution_count": 4,
   "id": "1ba6c11c-e840-4fee-8610-b30b15ef0dbc",
   "metadata": {},
   "outputs": [],
   "source": [
    "import pandas as pd"
   ]
  },
  {
   "cell_type": "code",
   "execution_count": 5,
   "id": "4cefe648-94d3-42c5-9efe-29992ab93fad",
   "metadata": {},
   "outputs": [],
   "source": [
    "regressor=pkl.load(open('regressor_nifty.pkl','rb'))"
   ]
  },
  {
   "cell_type": "code",
   "execution_count": 6,
   "id": "ad6d6d37-4112-4865-85a0-bd973cd4964c",
   "metadata": {},
   "outputs": [],
   "source": [
    "scaler=pkl.load(open('scaler_nifty.pkl','rb'))"
   ]
  },
  {
   "cell_type": "code",
   "execution_count": 8,
   "id": "64545952-aa54-40a3-84e2-bec6ab2c4e9d",
   "metadata": {},
   "outputs": [],
   "source": [
    "x=[]"
   ]
  },
  {
   "cell_type": "code",
   "execution_count": null,
   "id": "d7890676-d5f6-4123-b711-b442c728d6cc",
   "metadata": {},
   "outputs": [
    {
     "name": "stdin",
     "output_type": "stream",
     "text": [
      "Enter Open Price: 24845.4\n",
      "Enter High Price: 24858.4\n",
      "Enter low Price: 24771.65\n"
     ]
    }
   ],
   "source": [
    "x=[]\n",
    "x.clear()\n",
    "open=input('Enter Open Price:')\n",
    "x.append(open)\n",
    "high=input('Enter High Price:')\n",
    "x.append(high)\n",
    "low=input('Enter low Price:')\n",
    "x.append(low)\n",
    "close=input('Enter close Price:')\n",
    "x.append(close)\n",
    "input_scaled=scaler.transform([x])\n",
    "predicted_close=regressor.predict(input_scaled)\n",
    "print('Predicted Closing Price for next day:',round(float(predicted_close),2))"
   ]
  },
  {
   "cell_type": "code",
   "execution_count": null,
   "id": "48bc17eb-6863-4e3f-b852-89744cf8f062",
   "metadata": {},
   "outputs": [],
   "source": []
  },
  {
   "cell_type": "code",
   "execution_count": null,
   "id": "985cd25a-c045-4fbc-8461-183e80f7b709",
   "metadata": {},
   "outputs": [],
   "source": []
  },
  {
   "cell_type": "code",
   "execution_count": null,
   "id": "22fc7bcf-3fbc-4c2f-ad52-ec788059d88f",
   "metadata": {},
   "outputs": [],
   "source": []
  },
  {
   "cell_type": "code",
   "execution_count": null,
   "id": "571af550-fe01-4c82-8131-f9ed3aa6ab47",
   "metadata": {},
   "outputs": [],
   "source": []
  }
 ],
 "metadata": {
  "kernelspec": {
   "display_name": "Python 3 (ipykernel)",
   "language": "python",
   "name": "python3"
  },
  "language_info": {
   "codemirror_mode": {
    "name": "ipython",
    "version": 3
   },
   "file_extension": ".py",
   "mimetype": "text/x-python",
   "name": "python",
   "nbconvert_exporter": "python",
   "pygments_lexer": "ipython3",
   "version": "3.10.8"
  }
 },
 "nbformat": 4,
 "nbformat_minor": 5
}
